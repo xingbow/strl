{
 "cells": [
  {
   "cell_type": "code",
   "execution_count": 15,
   "metadata": {},
   "outputs": [],
   "source": [
    "import pandas as pd\n",
    "import numpy as np\n",
    "from pyproj import Proj,transform\n",
    "from sklearn.cluster import KMeans\n",
    "import matplotlib.pyplot as plt\n",
    "import warnings\n",
    "import plotly\n",
    "import plotly.plotly as py\n",
    "import plotly.graph_objs as go\n",
    "plotly.tools.set_credentials_file(username='wangxbzb', api_key='W6mELTLok96dDFQIdhp5')\n",
    "mapbox_access_token = 'pk.eyJ1IjoieGluZ2Jvd2FuZyIsImEiOiJjam9wc3J6ZmQwOWhnM3FvMnh0MmQza3FkIn0.ogFPsjfIYuUWFDY5Okcwiw'\n",
    "warnings.filterwarnings(\"ignore\")"
   ]
  },
  {
   "cell_type": "code",
   "execution_count": 16,
   "metadata": {},
   "outputs": [
    {
     "name": "stdout",
     "output_type": "stream",
     "text": [
      "<class 'pandas.core.frame.DataFrame'>\n",
      "RangeIndex: 1637 entries, 0 to 1636\n",
      "Data columns (total 10 columns):\n",
      "index                 1637 non-null int64\n",
      "start station id      1637 non-null int64\n",
      "start station name    1637 non-null object\n",
      "x1                    1637 non-null float64\n",
      "y1                    1637 non-null float64\n",
      "episode               1637 non-null float64\n",
      "cluster               1637 non-null float64\n",
      "community             1637 non-null float64\n",
      "lon                   1637 non-null float64\n",
      "lat                   1637 non-null float64\n",
      "dtypes: float64(7), int64(2), object(1)\n",
      "memory usage: 128.0+ KB\n",
      "None\n",
      "               index  start station id             x1            y1  \\\n",
      "count    1637.000000       1637.000000    1637.000000   1637.000000   \n",
      "mean    10469.943800        454.894319  301048.356568  62115.377435   \n",
      "std     18550.243429        397.180362    1212.068407   2661.886975   \n",
      "min       582.000000         72.000000  298552.057016  57042.399357   \n",
      "25%      2588.000000        291.000000  300160.313788  60021.677146   \n",
      "50%      7467.000000        388.000000  301022.089677  62135.958546   \n",
      "75%     10276.000000        476.000000  301883.087365  64404.472311   \n",
      "max    221492.000000       3002.000000  304222.917559  67054.814550   \n",
      "\n",
      "           episode      cluster    community          lon          lat  \n",
      "count  1637.000000  1637.000000  1637.000000  1637.000000  1637.000000  \n",
      "mean      1.999389     8.015883     0.756261   -73.987591    40.726032  \n",
      "std       1.414430     5.595230     0.781724     0.014344     0.023971  \n",
      "min       0.000000     0.000000     0.000000   -74.017134    40.680342  \n",
      "25%       1.000000     3.000000     0.000000   -73.998102    40.707179  \n",
      "50%       2.000000     7.000000     1.000000   -73.987895    40.726218  \n",
      "75%       3.000000    13.000000     1.000000   -73.977702    40.746647  \n",
      "max       4.000000    19.000000     2.000000   -73.950048    40.770513  \n"
     ]
    }
   ],
   "source": [
    "str = 'station-2014-02 - Citi Bike trip data.csv'\n",
    "station = pd.read_csv(str)\n",
    "print(station.info())\n",
    "print(station.describe())"
   ]
  },
  {
   "cell_type": "code",
   "execution_count": 17,
   "metadata": {
    "scrolled": false
   },
   "outputs": [
    {
     "data": {
      "text/html": [
       "<iframe id=\"igraph\" scrolling=\"no\" style=\"border:none;\" seamless=\"seamless\" src=\"https://plot.ly/~wangxbzb/14.embed\" height=\"525px\" width=\"100%\"></iframe>"
      ],
      "text/plain": [
       "<plotly.tools.PlotlyDisplay object>"
      ]
     },
     "execution_count": 17,
     "metadata": {},
     "output_type": "execute_result"
    }
   ],
   "source": [
    "K = 24\n",
    "site_lat = station['lat']\n",
    "site_lon = station['lon']\n",
    "locations_name = station['start station name']\n",
    "X = station[['lat','lon']]\n",
    "kmeans = KMeans(n_clusters=K).fit(X)\n",
    "    \n",
    "data = [\n",
    "    go.Scattermapbox(\n",
    "        lat=site_lat,\n",
    "        lon=site_lon,\n",
    "        mode='markers',\n",
    "        marker=dict(\n",
    "            size=8,\n",
    "            color=kmeans.labels_,\n",
    "            colorscale = 'Jet',\n",
    "            opacity=0.6\n",
    "        ),\n",
    "        text=locations_name,\n",
    "        hoverinfo='text'\n",
    "    )\n",
    "#     ,\n",
    "#     go.Scattermapbox(\n",
    "#         lat=site_lat,\n",
    "#         lon=site_lon,\n",
    "#         mode='markers',\n",
    "#         marker=dict(\n",
    "#             size=8,\n",
    "#             color='rgb(242, 177, 172)',\n",
    "#             opacity=0.3\n",
    "#         ),\n",
    "#         hoverinfo='none'\n",
    "#     )\n",
    "]\n",
    "\n",
    "layout = go.Layout(\n",
    "    title='KMeans Clustering',\n",
    "    autosize=True,\n",
    "    hovermode='closest',\n",
    "    showlegend=False,\n",
    "    mapbox=dict(\n",
    "        accesstoken=mapbox_access_token,\n",
    "        bearing=0,\n",
    "        center=dict(\n",
    "            lat=40.725996,\n",
    "            lon=-73.987611\n",
    "        ),\n",
    "        pitch=0,\n",
    "        zoom=10.8,\n",
    "        style='light'\n",
    "    ),\n",
    ")\n",
    "\n",
    "fig = dict(data=data, layout=layout)\n",
    "py.iplot(fig, filename='KMeans Clustering (region)')"
   ]
  },
  {
   "cell_type": "code",
   "execution_count": 18,
   "metadata": {},
   "outputs": [
    {
     "name": "stdout",
     "output_type": "stream",
     "text": [
      "<class 'pandas.core.frame.DataFrame'>\n",
      "Int64Index: 1630 entries, 0 to 128438\n",
      "Data columns (total 6 columns):\n",
      "start station id    1630 non-null int64\n",
      "episode             1630 non-null float64\n",
      "x1                  1630 non-null float64\n",
      "y1                  1630 non-null float64\n",
      "cluster             1630 non-null float64\n",
      "community           1630 non-null float64\n",
      "dtypes: float64(5), int64(1)\n",
      "memory usage: 89.1 KB\n",
      "None\n"
     ]
    },
    {
     "data": {
      "text/html": [
       "<iframe id=\"igraph\" scrolling=\"no\" style=\"border:none;\" seamless=\"seamless\" src=\"https://plot.ly/~wangxbzb/16.embed\" height=\"525px\" width=\"100%\"></iframe>"
      ],
      "text/plain": [
       "<plotly.tools.PlotlyDisplay object>"
      ]
     },
     "execution_count": 18,
     "metadata": {},
     "output_type": "execute_result"
    }
   ],
   "source": [
    "str = 'Final-2014-02 - Citi Bike trip data.csv'\n",
    "station2 = pd.read_csv(str)\n",
    "station2 = station2[['start station id','episode','x1','y1','cluster','community']].drop_duplicates()\n",
    "print(station2.info())\n",
    "lat_ = []\n",
    "lon_ = []\n",
    "for i in range(len(station2)):\n",
    "    lons, lats = p1(station2['x1'].iloc[i],station2['y1'].iloc[i],inverse=True)\n",
    "    lat_.append(lats)\n",
    "    lon_.append(lons)\n",
    "# ep control\n",
    "station2['lat'] = lat_\n",
    "station2['lon'] = lon_\n",
    "ep = 2#1,2,3,4\n",
    "ep_data = station2[station2['episode']==ep]\n",
    "ep_lat = ep_data['lat']\n",
    "ep_lon = ep_data['lon']\n",
    "cluster = pd.unique(ep_data['cluster'])\n",
    "cluster_num = len(cluster)\n",
    "#\n",
    "\n",
    "data = [\n",
    "    go.Scattermapbox(\n",
    "        lat=ep_lat,\n",
    "        lon=ep_lon,\n",
    "        mode='markers',\n",
    "        marker=dict(\n",
    "            size=8,\n",
    "            color=ep_data['cluster'],\n",
    "            opacity=0.8,\n",
    "            colorscale='Jet'\n",
    "        ),\n",
    "        text=locations_name,\n",
    "        hoverinfo='text'\n",
    "    )]\n",
    "    \n",
    "    \n",
    "layout = go.Layout(\n",
    "    title='NYC Bike Station Episode 2 (BC)',#2,3,4,5\n",
    "    autosize=True,\n",
    "    hovermode='closest',\n",
    "    showlegend=False,\n",
    "    mapbox=dict(\n",
    "        accesstoken=mapbox_access_token,\n",
    "        bearing=0,\n",
    "        center=dict(\n",
    "            lat=40.725996,\n",
    "            lon=-73.987611\n",
    "        ),\n",
    "        pitch=0,\n",
    "        zoom=10.8,\n",
    "        style='light'\n",
    "    ),\n",
    ")\n",
    "\n",
    "fig = dict(data=data, layout=layout)\n",
    "py.iplot(fig, filename='NYC Bike Station episode 2 (BC)')#2,3,4,5  \n",
    "                                "
   ]
  },
  {
   "cell_type": "code",
   "execution_count": 19,
   "metadata": {
    "scrolled": false
   },
   "outputs": [
    {
     "data": {
      "text/html": [
       "<iframe id=\"igraph\" scrolling=\"no\" style=\"border:none;\" seamless=\"seamless\" src=\"https://plot.ly/~wangxbzb/12.embed\" height=\"525px\" width=\"100%\"></iframe>"
      ],
      "text/plain": [
       "<plotly.tools.PlotlyDisplay object>"
      ]
     },
     "execution_count": 19,
     "metadata": {},
     "output_type": "execute_result"
    }
   ],
   "source": [
    "# episode control\n",
    "ep = 2 #1,2,3,4\n",
    "ep_data = station[station['episode']==ep]\n",
    "ep_lat = ep_data['lat']\n",
    "ep_lon = ep_data['lon']\n",
    "locations_name = ep_data['start station name']\n",
    "cluster = pd.unique(ep_data['cluster'])\n",
    "cluster_num = len(cluster)\n",
    "#\n",
    "\n",
    "data = [\n",
    "    go.Scattermapbox(\n",
    "        lat=ep_lat,\n",
    "        lon=ep_lon,\n",
    "        mode='markers',\n",
    "        marker=dict(\n",
    "            size=8,\n",
    "            color=ep_data['cluster'],\n",
    "            opacity=0.8,\n",
    "            colorscale='Jet'\n",
    "        ),\n",
    "        text=locations_name,\n",
    "        hoverinfo='text'\n",
    "    )]\n",
    "    \n",
    "    \n",
    "layout = go.Layout(\n",
    "    title='NYC Bike Station Episode 2 (ours)',#2,3,4,5\n",
    "    autosize=True,\n",
    "    hovermode='closest',\n",
    "    showlegend=False,\n",
    "    mapbox=dict(\n",
    "        accesstoken=mapbox_access_token,\n",
    "        bearing=0,\n",
    "        center=dict(\n",
    "            lat=40.725996,\n",
    "            lon=-73.987611\n",
    "        ),\n",
    "        pitch=0,\n",
    "        zoom=10.8,\n",
    "        style='light'\n",
    "    ),\n",
    ")\n",
    "\n",
    "fig = dict(data=data, layout=layout)\n",
    "py.iplot(fig, filename='NYC Bike Station episode 2 (ours)')#2,3,4,5\n"
   ]
  },
  {
   "cell_type": "code",
   "execution_count": 20,
   "metadata": {},
   "outputs": [],
   "source": [
    "import json\n",
    "with open('train-PGAgent-250.json', 'r') as f:\n",
    "    t_data = json.load(f)"
   ]
  },
  {
   "cell_type": "code",
   "execution_count": 21,
   "metadata": {},
   "outputs": [],
   "source": [
    "p1 = Proj(init='epsg:32118')\n",
    "trike_lat = []\n",
    "trike_lon = []\n",
    "trike_id = []\n",
    "trike_time = []\n",
    "region_lat = []\n",
    "region_lon = []\n",
    "region_id = []\n",
    "region_time = []\n",
    "\n",
    "for i in range(len(t_data)):\n",
    "    time_tag = t_data[i]['timestamp']\n",
    "    region = t_data[i]['regions']\n",
    "    trike = t_data[i]['trikes']\n",
    "    for j in range(len(region)):\n",
    "        lons, lats = p1(region[j]['p'][0],region[j]['p'][1],inverse=True)\n",
    "        region_lat.append(lats)\n",
    "        region_lon.append(lons)\n",
    "        region_id.append(region[j]['id'])\n",
    "        region_time.append(time_tag)\n",
    "    for k in range(len(trike)):\n",
    "        lons, lats = p1(trike[k]['p'][0],trike[k]['p'][1],inverse=True)\n",
    "        trike_lat.append(lats)\n",
    "        trike_lon.append(lons)\n",
    "        trike_id.append(trike[k]['id']+100)\n",
    "        trike_time.append(time_tag)\n",
    "trike_ = pd.DataFrame()\n",
    "trike_['id'] = trike_id\n",
    "trike_['lon'] = trike_lon\n",
    "trike_['lat'] = trike_lat\n",
    "trike_['timestamp'] = trike_time\n",
    "region_ = pd.DataFrame()\n",
    "region_['id'] = region_id\n",
    "region_['lon'] = region_lon\n",
    "region_['lat'] = region_lat\n",
    "region_['timestamp'] = region_time\n",
    "all_ = pd.concat([trike_,region_],axis=0)\n",
    "#print(all_)\n",
    "all_.to_csv('trike_route.csv',header=True,index=False)"
   ]
  }
 ],
 "metadata": {
  "kernelspec": {
   "display_name": "Python 3",
   "language": "python",
   "name": "python3"
  },
  "language_info": {
   "codemirror_mode": {
    "name": "ipython",
    "version": 3
   },
   "file_extension": ".py",
   "mimetype": "text/x-python",
   "name": "python",
   "nbconvert_exporter": "python",
   "pygments_lexer": "ipython3",
   "version": "3.6.5"
  }
 },
 "nbformat": 4,
 "nbformat_minor": 2
}
